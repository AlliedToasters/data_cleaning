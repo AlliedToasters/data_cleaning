{
 "cells": [
  {
   "cell_type": "code",
   "execution_count": 1,
   "metadata": {},
   "outputs": [
    {
     "ename": "ModuleNotFoundError",
     "evalue": "No module named 'autocorrect'",
     "output_type": "error",
     "traceback": [
      "\u001b[0;31m---------------------------------------------------------------------------\u001b[0m",
      "\u001b[0;31mModuleNotFoundError\u001b[0m                       Traceback (most recent call last)",
      "\u001b[0;32m<ipython-input-1-22cf18eb65dd>\u001b[0m in \u001b[0;36m<module>\u001b[0;34m()\u001b[0m\n\u001b[1;32m      1\u001b[0m \u001b[0;32mimport\u001b[0m \u001b[0mpandas\u001b[0m \u001b[0;32mas\u001b[0m \u001b[0mpd\u001b[0m\u001b[0;34m\u001b[0m\u001b[0m\n\u001b[1;32m      2\u001b[0m \u001b[0;32mimport\u001b[0m \u001b[0mnumpy\u001b[0m \u001b[0;32mas\u001b[0m \u001b[0mnp\u001b[0m\u001b[0;34m\u001b[0m\u001b[0m\n\u001b[0;32m----> 3\u001b[0;31m \u001b[0;32mfrom\u001b[0m \u001b[0mautocorrect\u001b[0m \u001b[0;32mimport\u001b[0m \u001b[0mspell\u001b[0m\u001b[0;34m\u001b[0m\u001b[0m\n\u001b[0m",
      "\u001b[0;31mModuleNotFoundError\u001b[0m: No module named 'autocorrect'"
     ]
    }
   ],
   "source": [
    "import pandas as pd\n",
    "import numpy as np\n",
    "from autocorrect import spell"
   ]
  },
  {
   "cell_type": "code",
   "execution_count": 3,
   "metadata": {
    "collapsed": true
   },
   "outputs": [],
   "source": [
    "df = pd.read_csv('WELLCOME_APCspend2013_forThinkful.csv', encoding = 'ISO-8859-1')"
   ]
  },
  {
   "cell_type": "code",
   "execution_count": 4,
   "metadata": {},
   "outputs": [
    {
     "name": "stdout",
     "output_type": "stream",
     "text": [
      "2127\n"
     ]
    },
    {
     "data": {
      "text/html": [
       "<div>\n",
       "<style>\n",
       "    .dataframe thead tr:only-child th {\n",
       "        text-align: right;\n",
       "    }\n",
       "\n",
       "    .dataframe thead th {\n",
       "        text-align: left;\n",
       "    }\n",
       "\n",
       "    .dataframe tbody tr th {\n",
       "        vertical-align: top;\n",
       "    }\n",
       "</style>\n",
       "<table border=\"1\" class=\"dataframe\">\n",
       "  <thead>\n",
       "    <tr style=\"text-align: right;\">\n",
       "      <th></th>\n",
       "      <th>PMID/PMCID</th>\n",
       "      <th>Publisher</th>\n",
       "      <th>Journal title</th>\n",
       "      <th>Article title</th>\n",
       "      <th>COST (£) charged to Wellcome (inc VAT when charged)</th>\n",
       "    </tr>\n",
       "  </thead>\n",
       "  <tbody>\n",
       "    <tr>\n",
       "      <th>count</th>\n",
       "      <td>1928</td>\n",
       "      <td>2127</td>\n",
       "      <td>2126</td>\n",
       "      <td>2127</td>\n",
       "      <td>2127</td>\n",
       "    </tr>\n",
       "    <tr>\n",
       "      <th>unique</th>\n",
       "      <td>1880</td>\n",
       "      <td>299</td>\n",
       "      <td>984</td>\n",
       "      <td>2126</td>\n",
       "      <td>1402</td>\n",
       "    </tr>\n",
       "    <tr>\n",
       "      <th>top</th>\n",
       "      <td>In Process</td>\n",
       "      <td>Elsevier</td>\n",
       "      <td>PLoS One</td>\n",
       "      <td>Exclusive breastfeeding, diarrhoel morbidity a...</td>\n",
       "      <td>£2040.00</td>\n",
       "    </tr>\n",
       "    <tr>\n",
       "      <th>freq</th>\n",
       "      <td>7</td>\n",
       "      <td>387</td>\n",
       "      <td>92</td>\n",
       "      <td>2</td>\n",
       "      <td>94</td>\n",
       "    </tr>\n",
       "  </tbody>\n",
       "</table>\n",
       "</div>"
      ],
      "text/plain": [
       "        PMID/PMCID Publisher Journal title  \\\n",
       "count         1928      2127          2126   \n",
       "unique        1880       299           984   \n",
       "top     In Process  Elsevier      PLoS One   \n",
       "freq             7       387            92   \n",
       "\n",
       "                                            Article title  \\\n",
       "count                                                2127   \n",
       "unique                                               2126   \n",
       "top     Exclusive breastfeeding, diarrhoel morbidity a...   \n",
       "freq                                                    2   \n",
       "\n",
       "       COST (£) charged to Wellcome (inc VAT when charged)  \n",
       "count                                                2127   \n",
       "unique                                               1402   \n",
       "top                                              £2040.00   \n",
       "freq                                                   94   "
      ]
     },
     "execution_count": 4,
     "metadata": {},
     "output_type": "execute_result"
    }
   ],
   "source": [
    "print(len(df))\n",
    "df.describe()"
   ]
  },
  {
   "cell_type": "code",
   "execution_count": 6,
   "metadata": {
    "collapsed": true
   },
   "outputs": [],
   "source": []
  },
  {
   "cell_type": "code",
   "execution_count": 30,
   "metadata": {
    "collapsed": true
   },
   "outputs": [],
   "source": [
    "df['clean_journal'] = df['Journal title'].apply(lambda x: str(x).lower())"
   ]
  },
  {
   "cell_type": "code",
   "execution_count": 31,
   "metadata": {
    "collapsed": true
   },
   "outputs": [],
   "source": [
    "df['clean_journal'] = df['clean_journal'].str.replace('med', 'medical')\n",
    "df['clean_journal'] = df['clean_journal'].str.replace('j ', 'journal of ')\n",
    "df['clean_journal'] = df['clean_journal'].str.replace('jnl ', 'journal of ')\n",
    "df['clean_journal'] = df['clean_journal'].str.replace('chem', 'chemistry')\n",
    "df['clean_journal'] = df['clean_journal'].str.replace('chem.', 'chemistry')\n",
    "df['clean_journal'] = df['clean_journal'].str.replace('biol', 'biological')\n",
    "df['clean_journal'] = df['clean_journal'].str.replace('clin', 'clinical')\n",
    "df['clean_journal'] = df['clean_journal'].str.replace('sci.', 'science')\n",
    "df['clean_journal'] = df['clean_journal'].str.replace('immunol', 'immunology')\n",
    "df['clean_journal'] = df['clean_journal'].str.replace('mol', 'molecular')\n",
    "df['clean_journal'] = df['clean_journal'].str.replace('virol', 'virology')"
   ]
  },
  {
   "cell_type": "code",
   "execution_count": 32,
   "metadata": {
    "collapsed": true
   },
   "outputs": [],
   "source": [
    "lis = set(filter(lambda x: x[0] == 'j', df['clean_journal']))"
   ]
  },
  {
   "cell_type": "code",
   "execution_count": 33,
   "metadata": {},
   "outputs": [
    {
     "data": {
      "text/plain": [
       "{'jaids journal of acquired immune deficiency syndromes',\n",
       " 'jerph',\n",
       " 'jounral of clinicalical microbiologicalogy',\n",
       " 'journal biologicalogical chemistrystryistry',\n",
       " 'journal od clinicalical endocrinology',\n",
       " 'journal of abnormal psychology',\n",
       " 'journal of acquired immune deficiency syndromes',\n",
       " 'journal of acquired immune deficiency syndroms (jaids)',\n",
       " 'journal of affective disorders',\n",
       " 'journal of affective disorders ',\n",
       " 'journal of aids',\n",
       " 'journal of allergy',\n",
       " 'journal of allergy & clinicalical immunologyogy',\n",
       " 'journal of allergy and clinicalical immunologyogy',\n",
       " 'journal of alzheimer disease',\n",
       " 'journal of anthropological archaeology',\n",
       " 'journal of antimicrobial chemistrystryotherapy',\n",
       " 'journal of applied crystallography',\n",
       " 'journal of applied physiology',\n",
       " 'journal of archaeological sciencence',\n",
       " 'journal of autism and development disorders',\n",
       " 'journal of autism and developmental disorders',\n",
       " 'journal of bacteriology',\n",
       " 'journal of behavior therapy and experimental psychiatry',\n",
       " 'journal of behaviour therapy and experimental psychiatry',\n",
       " 'journal of bioenergetics and biomembranes',\n",
       " 'journal of bioethical inquiry',\n",
       " 'journal of biological chemistrystry',\n",
       " 'journal of biological chemistrystry.',\n",
       " 'journal of biological chemistrystryistry',\n",
       " 'journal of biologicalogical chemistrystryistry',\n",
       " 'journal of biologicalogical physics',\n",
       " 'journal of biomedicalical graphics and computing',\n",
       " 'journal of bone and mineral research',\n",
       " 'journal of cardiovasc magn reson',\n",
       " 'journal of cell physiology',\n",
       " 'journal of cell science',\n",
       " 'journal of cell sciencence',\n",
       " 'journal of cellular biochemistrystryistry',\n",
       " 'journal of cerebral blood flow and metabolism',\n",
       " 'journal of chemistrystryical information and modeling',\n",
       " 'journal of chemistrystryinformatics',\n",
       " 'journal of child psychology and psychiatry',\n",
       " 'journal of clinical microbiological',\n",
       " 'journal of clinicalical endocrinology',\n",
       " 'journal of clinicalical endocrinology and metabolism',\n",
       " 'journal of clinicalical epidemiology',\n",
       " 'journal of clinicalical microbiologicalogy',\n",
       " 'journal of clinicalical microbiologicalogy ',\n",
       " 'journal of clinicalical pathology',\n",
       " 'journal of clinicalical virologyogy',\n",
       " 'journal of cognitive neurosciencence',\n",
       " 'journal of comparative neurology',\n",
       " 'journal of computational neurosciencence',\n",
       " 'journal of consulting and clinicalical psychology',\n",
       " 'journal of cultural economy',\n",
       " 'journal of cycstic fibrosis',\n",
       " 'journal of depression & anxiety',\n",
       " 'journal of endocrinology',\n",
       " 'journal of epidemiology & community health',\n",
       " 'journal of epidemiology & community health ',\n",
       " 'journal of epidemiology and community health',\n",
       " 'journal of evaluation in clinicalical practice',\n",
       " 'journal of evolutionary biologicalogy',\n",
       " 'journal of experimental nanosciencence',\n",
       " 'journal of experimental psychology:  animal behaviour process',\n",
       " 'journal of experimental psychology: human perception and performance',\n",
       " 'journal of family psychology',\n",
       " 'journal of general virologyogy',\n",
       " 'journal of gerontology series a: medicalical sciencences',\n",
       " 'journal of hepatology',\n",
       " 'journal of histochemistrystryistry & cytochemistrystryistry',\n",
       " 'journal of historical geography',\n",
       " 'journal of hospital infections',\n",
       " 'journal of immunology',\n",
       " 'journal of immunology ',\n",
       " 'journal of immunologyogy',\n",
       " 'journal of infect dis',\n",
       " 'journal of infection',\n",
       " 'journal of infectious diseases',\n",
       " 'journal of infectious diseases\\n\\n',\n",
       " 'journal of inherited metabolic',\n",
       " 'journal of internal medicalicine',\n",
       " 'journal of investigative dermatology',\n",
       " 'journal of leukocyte biologicalogy',\n",
       " 'journal of mechanisms of ageing and development',\n",
       " 'journal of medical chemistrystry',\n",
       " 'journal of medical chemistrystry.',\n",
       " 'journal of medical internet research',\n",
       " 'journal of medicalical ethics',\n",
       " 'journal of medicalical genetics',\n",
       " 'journal of medicalical virologyogy',\n",
       " 'journal of medicalical virologyogy ',\n",
       " 'journal of medicalicinal chemistrystryistry',\n",
       " 'journal of medicalicinal chemistrystryistry ',\n",
       " 'journal of microbiologicalogy',\n",
       " 'journal of microscopy',\n",
       " 'journal of molecular biological',\n",
       " 'journal of molecularecular biologicalogy',\n",
       " 'journal of molecularecular endocrinology',\n",
       " 'journal of molecularecular medicalicine',\n",
       " 'journal of molecularecular neurosciencence',\n",
       " 'journal of neural transmission',\n",
       " 'journal of neurochemistrystryistry',\n",
       " 'journal of neurochemistrystryistry ',\n",
       " 'journal of neuroendocrinology',\n",
       " 'journal of neuroinflammation',\n",
       " 'journal of neurology',\n",
       " 'journal of neurology & translational neurosciencence',\n",
       " 'journal of neurology, neurosurgery & psychiatry',\n",
       " 'journal of neurology, neurosurgery & psychiatry ',\n",
       " 'journal of neurology, neurosurgery and psychiatry',\n",
       " 'journal of neurophysiology',\n",
       " 'journal of neurosciencence',\n",
       " 'journal of neurosciencence ',\n",
       " 'journal of neurosciencence methods',\n",
       " 'journal of nutrition',\n",
       " 'journal of nutrition education and behaviour',\n",
       " 'journal of of the international neuropsychological society',\n",
       " 'journal of org chemistrystry',\n",
       " 'journal of orthopedic research',\n",
       " 'journal of paediatric urology ',\n",
       " 'journal of parasitology research',\n",
       " 'journal of pathology',\n",
       " 'journal of physiology',\n",
       " 'journal of poverty and social justice',\n",
       " 'journal of proteome research',\n",
       " 'journal of proteomics',\n",
       " 'journal of psychopharmacology',\n",
       " 'journal of public health',\n",
       " 'journal of sleep research',\n",
       " 'journal of small animal practice',\n",
       " 'journal of steroid biochemistrystry molecular biological',\n",
       " 'journal of structural biologicalogy',\n",
       " 'journal of synchrotron radiat.',\n",
       " 'journal of the american academy of child and adolescent psychiatry ',\n",
       " 'journal of the american chemistrystryical society',\n",
       " 'journal of the american college of cardiology',\n",
       " 'journal of the american society for mass spectrometry',\n",
       " 'journal of the association for research in otolaryngology',\n",
       " 'journal of the history of the behavioral sciencences',\n",
       " 'journal of the international african institute',\n",
       " 'journal of the international aids society',\n",
       " 'journal of the national cancer institute',\n",
       " 'journal of the neurological sciencences',\n",
       " 'journal of the royal society interface',\n",
       " 'journal of the royal society of medicalicine short reports',\n",
       " 'journal of the royal society, interface',\n",
       " 'journal of the royal statistical society: series c (applied statistics)',\n",
       " 'journal of transport geography',\n",
       " 'journal of viral hepatitis',\n",
       " 'journal of virology',\n",
       " 'journal of virologyogical methods',\n",
       " 'journal of virologyogy',\n",
       " 'journal of virologyogy\\n',\n",
       " 'journal of vision',\n",
       " 'journal of visualized experiements',\n",
       " 'journal of visualized experiments',\n",
       " 'journal of visualized experiments ',\n",
       " 'journal of visulaized expermiments'}"
      ]
     },
     "execution_count": 33,
     "metadata": {},
     "output_type": "execute_result"
    }
   ],
   "source": [
    "lis"
   ]
  },
  {
   "cell_type": "code",
   "execution_count": null,
   "metadata": {
    "collapsed": true
   },
   "outputs": [],
   "source": []
  }
 ],
 "metadata": {
  "kernelspec": {
   "display_name": "Python 3",
   "language": "python",
   "name": "python3"
  },
  "language_info": {
   "codemirror_mode": {
    "name": "ipython",
    "version": 3
   },
   "file_extension": ".py",
   "mimetype": "text/x-python",
   "name": "python",
   "nbconvert_exporter": "python",
   "pygments_lexer": "ipython3",
   "version": "3.6.1"
  }
 },
 "nbformat": 4,
 "nbformat_minor": 2
}
